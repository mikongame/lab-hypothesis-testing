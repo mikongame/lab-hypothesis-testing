{
 "cells": [
  {
   "cell_type": "markdown",
   "metadata": {},
   "source": [
    "# Challenge 1\n",
    "We want to estimate the average size of the men of a country with a confidence level of 80%. Assuming that the standard deviation of the sizes in the population is 4, get the confidence interval with a sample of men selected randomly, whose heights are:\n",
    "~~~~\n",
    "heights = [167, 167, 168, 168, 168, 169, 171, 172, 173, 175, 175, 175, 177, 182, 195]\n",
    "~~~~"
   ]
  },
  {
   "cell_type": "code",
   "execution_count": 1,
   "metadata": {
    "ExecuteTime": {
     "end_time": "2020-03-21T11:19:04.056494Z",
     "start_time": "2020-03-21T11:19:03.408899Z"
    }
   },
   "outputs": [],
   "source": [
    "# Libraries\n",
    "from scipy import stats\n",
    "import numpy as np\n",
    "import math"
   ]
  },
  {
   "cell_type": "code",
   "execution_count": 2,
   "metadata": {
    "ExecuteTime": {
     "end_time": "2020-03-21T11:19:04.110462Z",
     "start_time": "2020-03-21T11:19:04.058607Z"
    }
   },
   "outputs": [],
   "source": [
    "# We know that the height of people has a normal distribution N(μ,σ) with known σ.\n",
    "# Then, we know that the distribution of sample means is also normally distributed with the following parameters:\n",
    "\n",
    "# Variables\n",
    "sample = [\n",
    "    167, 167, 168, 168, 168, 169, 171, 172, 173, 175, 175, 175, 177, 182, 195\n",
    "]\n",
    "pop_std = 4\n",
    "score = stats.norm.interval(0.80)[1]\n",
    "\n",
    "# Parameters\n",
    "normal_mean = np.mean(sample)\n",
    "normal_std = pop_std / math.sqrt(len(sample))"
   ]
  },
  {
   "cell_type": "code",
   "execution_count": 3,
   "metadata": {
    "ExecuteTime": {
     "end_time": "2020-03-21T11:19:04.271284Z",
     "start_time": "2020-03-21T11:19:04.111968Z"
    }
   },
   "outputs": [
    {
     "name": "stdout",
     "output_type": "stream",
     "text": [
      "Confidence interval (80%): 172.07752526922508 - 174.85580806410826\n"
     ]
    }
   ],
   "source": [
    "# METHOD 1\n",
    "# Confidence interval\n",
    "confidence = 0.80\n",
    "\n",
    "n = len(sample)\n",
    "m = normal_mean\n",
    "std = normal_std\n",
    "\n",
    "h = std * stats.t(n - 1).ppf((1 + confidence) / 2)\n",
    "\n",
    "start = m - h\n",
    "end = m + h\n",
    "\n",
    "print(\"Confidence interval ({:.0f}%): {} - {}\".format(confidence * 100, start,\n",
    "                                                      end))"
   ]
  },
  {
   "cell_type": "code",
   "execution_count": 4,
   "metadata": {
    "ExecuteTime": {
     "end_time": "2020-03-21T11:19:04.380938Z",
     "start_time": "2020-03-21T11:19:04.273282Z"
    }
   },
   "outputs": [
    {
     "data": {
      "text/plain": [
       "(172.14308590115726, 174.79024743217607)"
      ]
     },
     "execution_count": 4,
     "metadata": {},
     "output_type": "execute_result"
    }
   ],
   "source": [
    "# METHOD 2\n",
    "# Confidence interval\n",
    "stats.norm.interval(0.80, loc=normal_mean, scale=normal_std)"
   ]
  },
  {
   "cell_type": "markdown",
   "metadata": {},
   "source": [
    "# Challenge 2 \n",
    "In a sample of 105 shops selected randomly from an area, we note that 27 of them have had losses in this month. Get an confidence interval for the proportion of businesses in the area with losses, to a confidence level of 80% and a confidence level of 90%."
   ]
  },
  {
   "cell_type": "code",
   "execution_count": 5,
   "metadata": {
    "ExecuteTime": {
     "end_time": "2020-03-21T11:19:04.487328Z",
     "start_time": "2020-03-21T11:19:04.383836Z"
    }
   },
   "outputs": [],
   "source": [
    "# According to the Central Limit Theorem, we know that the distribution\n",
    "# of the sample proportion means is normally distributed with approximately the following parameters:\n",
    "\n",
    "# Variables\n",
    "total_shops = 105\n",
    "loss_shops = 27\n",
    "score_80 = stats.norm.interval(0.80)[1]\n",
    "score_90 = stats.norm.interval(0.90)[1]\n",
    "\n",
    "# Parameters\n",
    "prop = loss_shops / total_shops\n",
    "prop_se = math.sqrt((prop * (1 - prop)) / total_shops)"
   ]
  },
  {
   "cell_type": "code",
   "execution_count": 6,
   "metadata": {
    "ExecuteTime": {
     "end_time": "2020-03-21T11:19:04.582200Z",
     "start_time": "2020-03-21T11:19:04.490659Z"
    }
   },
   "outputs": [
    {
     "name": "stdout",
     "output_type": "stream",
     "text": [
      "Confidence interval 80%:  From 0.20248138545542083 to 0.3118043288302934\n",
      "Confidence interval 90%:  From 0.18698561776452813 to 0.3273000965211861\n"
     ]
    }
   ],
   "source": [
    "# METHOD 1\n",
    "# Confidence interval\n",
    "start80 = prop - score_80 * prop_se\n",
    "end80 = prop + score_80 * prop_se\n",
    "print(\"Confidence interval 80%: \", \"From\", start80, \"to\", end80)\n",
    "\n",
    "start90 = prop - score_90 * prop_se\n",
    "end90 = prop + score_90 * prop_se\n",
    "print(\"Confidence interval 90%: \", \"From\", start90, \"to\", end90)"
   ]
  },
  {
   "cell_type": "code",
   "execution_count": 7,
   "metadata": {
    "ExecuteTime": {
     "end_time": "2020-03-21T11:19:04.687349Z",
     "start_time": "2020-03-21T11:19:04.586194Z"
    }
   },
   "outputs": [
    {
     "name": "stdout",
     "output_type": "stream",
     "text": [
      "Confidence interval 80%:  (0.20248138545542083, 0.3118043288302934)\n",
      "Confidence interval 90%:  (0.1869856177645281, 0.3273000965211861)\n"
     ]
    }
   ],
   "source": [
    "# METHOD 2\n",
    "# Confidence interval\n",
    "print(\"Confidence interval 80%: \",\n",
    "      stats.norm.interval(0.80, loc=prop, scale=prop_se))\n",
    "print(\"Confidence interval 90%: \",\n",
    "      stats.norm.interval(0.90, loc=prop, scale=prop_se))"
   ]
  },
  {
   "cell_type": "markdown",
   "metadata": {},
   "source": [
    "# Challenge 3 - To practice more\n",
    "For the same example in challenge 1, calculate a confidence interval for the variance at 90% level."
   ]
  },
  {
   "cell_type": "code",
   "execution_count": 8,
   "metadata": {
    "ExecuteTime": {
     "end_time": "2020-03-21T11:19:04.815887Z",
     "start_time": "2020-03-21T11:19:04.690303Z"
    }
   },
   "outputs": [
    {
     "name": "stdout",
     "output_type": "stream",
     "text": [
      "(6.570631383789342, 23.684791304840576)\n"
     ]
    }
   ],
   "source": [
    "# As the height of men are independent and identically distributed random variables,\n",
    "# we can say that the variance of the heights has a confidence interval such that:\n",
    "\n",
    "# Variables\n",
    "df = len(sample) - 1\n",
    "score = stats.chi2.interval(0.90, df)\n",
    "\n",
    "# Parameters\n",
    "quasivariance = np.var(sample) * (len(sample) / df)\n",
    "\n",
    "print(score)"
   ]
  },
  {
   "cell_type": "code",
   "execution_count": 9,
   "metadata": {
    "ExecuteTime": {
     "end_time": "2020-03-21T11:19:04.954257Z",
     "start_time": "2020-03-21T11:19:04.818834Z"
    }
   },
   "outputs": [
    {
     "data": {
      "text/plain": [
       "[31.992400675216064, 115.32123613002646]"
      ]
     },
     "execution_count": 9,
     "metadata": {},
     "output_type": "execute_result"
    }
   ],
   "source": [
    "# Confidence interval\n",
    "confidence_interval = [\n",
    "    df * quasivariance / score[1], df * quasivariance / score[0]\n",
    "]\n",
    "confidence_interval"
   ]
  },
  {
   "cell_type": "markdown",
   "metadata": {},
   "source": [
    "# Challenge 4 - To practice more\n",
    "The sulfuric acid content of 7 similar containers is 9.8, 10.2, 10.4, 9.8, 10.0, 10.2 and 9.6 liters. Calculate a 95% confidence interval for the average content of all containers assuming an approximately normal distribution.\n",
    "\n",
    "\n"
   ]
  },
  {
   "cell_type": "code",
   "execution_count": 10,
   "metadata": {
    "ExecuteTime": {
     "end_time": "2020-03-21T11:19:05.040156Z",
     "start_time": "2020-03-21T11:19:04.956252Z"
    }
   },
   "outputs": [],
   "source": [
    "# According to the Fisher-Cochran Lemma, the distribution of the sample means for a\n",
    "# normal distribution N(μ,σ) with unknown σ has the following parameters:\n",
    "\n",
    "# Variables\n",
    "sample = [9.8, 10.2, 10.4, 9.8, 10.0, 10.2, 9.6]\n",
    "df = len(sample) - 1\n",
    "score = stats.t.interval(0.95, df)[1]\n",
    "\n",
    "# Parameters\n",
    "t_student_mean = np.mean(sample)\n",
    "quasivariance = np.var(sample) * (len(sample) / df)\n",
    "t_student_std = math.sqrt(quasivariance) / math.sqrt(len(sample))"
   ]
  },
  {
   "cell_type": "code",
   "execution_count": 11,
   "metadata": {
    "ExecuteTime": {
     "end_time": "2020-03-21T11:19:05.202920Z",
     "start_time": "2020-03-21T11:19:05.044007Z"
    }
   },
   "outputs": [
    {
     "data": {
      "text/plain": [
       "[9.738414120176683, 10.261585879823317]"
      ]
     },
     "execution_count": 11,
     "metadata": {},
     "output_type": "execute_result"
    }
   ],
   "source": [
    "# METHOD 1\n",
    "# Confidence interval\n",
    "confidence_interval = [\n",
    "    t_student_mean - score * t_student_std,\n",
    "    t_student_mean + (score * t_student_std)\n",
    "]\n",
    "confidence_interval"
   ]
  },
  {
   "cell_type": "code",
   "execution_count": 12,
   "metadata": {
    "ExecuteTime": {
     "end_time": "2020-03-21T11:19:05.363473Z",
     "start_time": "2020-03-21T11:19:05.204902Z"
    }
   },
   "outputs": [
    {
     "data": {
      "text/plain": [
       "(9.738414120176683, 10.261585879823317)"
      ]
     },
     "execution_count": 12,
     "metadata": {},
     "output_type": "execute_result"
    }
   ],
   "source": [
    "# METHOD 2\n",
    "# Confidence interval\n",
    "stats.t.interval(0.95, df, loc=t_student_mean, scale=t_student_std)"
   ]
  },
  {
   "cell_type": "markdown",
   "metadata": {},
   "source": [
    "# Bonus challenge\n",
    "The error level or sampling error for the first challenge is given by the following expression:\n",
    "$$Error = z_{\\frac{\\alpha}{2}}\\frac{\\sigma}{\\sqrt n}$$\n",
    "Where z represents the value for N(0,1).\n",
    "\n",
    "\n",
    "Suppose that with the previous data in the challenge 1, and with a confidence level of\n",
    "99% (that is, almost certainly) we want to estimate the average population size, so that the error level committed is not greater than half a centimeter.\n",
    "\n",
    "i) Determine what size the selected sample of men should be."
   ]
  },
  {
   "cell_type": "code",
   "execution_count": 13,
   "metadata": {
    "ExecuteTime": {
     "end_time": "2020-03-21T11:19:05.705956Z",
     "start_time": "2020-03-21T11:19:05.368661Z"
    }
   },
   "outputs": [],
   "source": [
    "# Variables\n",
    "sample = [\n",
    "    167, 167, 168, 168, 168, 169, 171, 172, 173, 175, 175, 175, 177, 182, 195\n",
    "]\n",
    "pop_std = 4\n",
    "score = stats.norm.interval(0.99)[1]\n",
    "error = 0.5\n",
    "\n",
    "# Sample Size"
   ]
  },
  {
   "cell_type": "markdown",
   "metadata": {},
   "source": [
    "ii) For the second challenge, we have the following error:\n",
    "$$ Error = z_{\\frac{\\alpha}{2}}\\sqrt{\\frac{p\\times q}{n}} $$\n",
    "\n",
    "Determine the sample size required to not exceed an error of 1% with a confidence of 80%."
   ]
  },
  {
   "cell_type": "code",
   "execution_count": 14,
   "metadata": {
    "ExecuteTime": {
     "end_time": "2020-03-21T11:19:05.942722Z",
     "start_time": "2020-03-21T11:19:05.707956Z"
    }
   },
   "outputs": [],
   "source": [
    "# Variables\n",
    "total_shops = 105\n",
    "loss_shops = 27\n",
    "score = stats.norm.interval(0.80)[1]\n",
    "error = 0.01\n",
    "\n",
    "# Parameters\n",
    "\n",
    "# Sample Size"
   ]
  },
  {
   "cell_type": "markdown",
   "metadata": {},
   "source": [
    "# Bonus challenge"
   ]
  },
  {
   "cell_type": "markdown",
   "metadata": {},
   "source": [
    "Let's consider the following problem:\n",
    "\n",
    "Build a confidence interval of 94% for the real difference between the durations of two brands of spotlights, if a sample of 40 spotlights taken randomly from the first mark gave an average duration of 418 hours, and a sample of 50 bulbs of another brand gave a duration average of 402 hours. The standard deviations of the two\n",
    "populations are 26 hours and 22 hours, respectively.\n",
    "\n",
    "Sometimes, we will be interested in the difference of two different groups of random variables. We can also build a confidence interval for that! We have some different cases regarding the variance but for this specific case (the variance are different and known), we have that:\n",
    "\n",
    "$$\\overline{X} - \\overline{Y}  \\sim N(\\mu_{X} - \\mu_{Y} , \\sqrt{\\frac{\\sigma_{X}^2}{n_X}+\\frac{\\sigma_{Y}^2}{n_Y}})$$\n",
    "\n",
    "Solve the problem with this information."
   ]
  },
  {
   "cell_type": "code",
   "execution_count": 15,
   "metadata": {
    "ExecuteTime": {
     "end_time": "2020-03-21T11:19:06.051860Z",
     "start_time": "2020-03-21T11:19:05.943648Z"
    }
   },
   "outputs": [],
   "source": [
    "# Variables\n",
    "score = stats.norm.interval(0.94)[1]\n",
    "\n",
    "# Sample 1\n",
    "size_s1 = 40\n",
    "avg_time_s1 = 418\n",
    "std_time_s1 = 26\n",
    "\n",
    "# Sample 2\n",
    "size_s2 = 50\n",
    "avg_time_s2 = 402\n",
    "std_time_s2 = 22\n",
    "\n",
    "# Parameters"
   ]
  },
  {
   "cell_type": "code",
   "execution_count": 16,
   "metadata": {
    "ExecuteTime": {
     "end_time": "2020-03-21T11:19:06.188313Z",
     "start_time": "2020-03-21T11:19:06.053858Z"
    }
   },
   "outputs": [],
   "source": [
    "# METHOD 1\n",
    "# Confidence interval"
   ]
  },
  {
   "cell_type": "code",
   "execution_count": 17,
   "metadata": {
    "ExecuteTime": {
     "end_time": "2020-03-21T11:19:06.310294Z",
     "start_time": "2020-03-21T11:19:06.190250Z"
    }
   },
   "outputs": [],
   "source": [
    "# METHOD 2\n",
    "# Confidence interval"
   ]
  }
 ],
 "metadata": {
  "kernelspec": {
   "display_name": "Python 3",
   "language": "python",
   "name": "python3"
  },
  "language_info": {
   "codemirror_mode": {
    "name": "ipython",
    "version": 3
   },
   "file_extension": ".py",
   "mimetype": "text/x-python",
   "name": "python",
   "nbconvert_exporter": "python",
   "pygments_lexer": "ipython3",
   "version": "3.7.6"
  },
  "toc": {
   "base_numbering": 1,
   "nav_menu": {},
   "number_sections": true,
   "sideBar": true,
   "skip_h1_title": false,
   "title_cell": "Table of Contents",
   "title_sidebar": "Contents",
   "toc_cell": false,
   "toc_position": {},
   "toc_section_display": true,
   "toc_window_display": false
  },
  "varInspector": {
   "cols": {
    "lenName": 16,
    "lenType": 16,
    "lenVar": 40
   },
   "kernels_config": {
    "python": {
     "delete_cmd_postfix": "",
     "delete_cmd_prefix": "del ",
     "library": "var_list.py",
     "varRefreshCmd": "print(var_dic_list())"
    },
    "r": {
     "delete_cmd_postfix": ") ",
     "delete_cmd_prefix": "rm(",
     "library": "var_list.r",
     "varRefreshCmd": "cat(var_dic_list()) "
    }
   },
   "types_to_exclude": [
    "module",
    "function",
    "builtin_function_or_method",
    "instance",
    "_Feature"
   ],
   "window_display": false
  }
 },
 "nbformat": 4,
 "nbformat_minor": 2
}
